{
 "cells": [
  {
   "cell_type": "markdown",
   "id": "082e2141",
   "metadata": {},
   "source": [
    "# Installation of libraries"
   ]
  },
  {
   "cell_type": "markdown",
   "id": "38219924",
   "metadata": {},
   "source": [
    "These are commented out, only run if there are problems with wandb version"
   ]
  },
  {
   "cell_type": "code",
   "execution_count": null,
   "id": "ad5d6edc",
   "metadata": {},
   "outputs": [],
   "source": [
    "# !pip uninstall wandb -y"
   ]
  },
  {
   "cell_type": "code",
   "execution_count": null,
   "id": "8e88b8f6",
   "metadata": {},
   "outputs": [],
   "source": [
    "# install libraries\n",
    "# !pip install wandb==0.13.2"
   ]
  },
  {
   "cell_type": "markdown",
   "id": "55746e8d",
   "metadata": {},
   "source": [
    "Install pandas_profiling"
   ]
  },
  {
   "cell_type": "code",
   "execution_count": null,
   "id": "baec6413",
   "metadata": {},
   "outputs": [],
   "source": [
    "!pip install pandas_profiling"
   ]
  },
  {
   "cell_type": "code",
   "execution_count": null,
   "id": "a22ade0f",
   "metadata": {},
   "outputs": [],
   "source": [
    "!pip install ipywidgets"
   ]
  },
  {
   "cell_type": "markdown",
   "id": "7ada4f0d",
   "metadata": {},
   "source": [
    "# Load Data from wandb into a dataframe"
   ]
  },
  {
   "cell_type": "code",
   "execution_count": null,
   "id": "c50acdd2",
   "metadata": {},
   "outputs": [],
   "source": [
    "import wandb\n",
    "import pandas as pd\n",
    "\n",
    "# init proyect\n",
    "run = wandb.init(project=\"nyc_airbnb\", group=\"eda\", save_code=True)\n",
    "\n",
    "# load data from w and b\n",
    "local_path = wandb.use_artifact(\"sample.csv:latest\").file()\n",
    "df = pd.read_csv(local_path)"
   ]
  },
  {
   "cell_type": "markdown",
   "id": "68e4f4b6",
   "metadata": {},
   "source": [
    "# Generate pandas profiling report"
   ]
  },
  {
   "cell_type": "code",
   "execution_count": 8,
   "id": "162280da",
   "metadata": {},
   "outputs": [],
   "source": [
    "import pandas_profiling\n",
    "\n",
    "profile = pandas_profiling.ProfileReport(df)\n",
    "profile.to_widgets()"
   ]
  },
  {
   "cell_type": "markdown",
   "id": "af211fa8",
   "metadata": {},
   "source": [
    "# Clean the data"
   ]
  },
  {
   "cell_type": "code",
   "execution_count": 9,
   "id": "3495d48f",
   "metadata": {},
   "outputs": [],
   "source": [
    "# Drop outliers\n",
    "min_price = 10\n",
    "max_price = 350\n",
    "\n",
    "# we clean the dataset to include only the listings betwen the min and max price\n",
    "idx = df['price'].between(min_price, max_price)\n",
    "df = df[idx].copy()\n",
    "# Convert last_review to datetime\n",
    "df['last_review'] = pd.to_datetime(df['last_review'])"
   ]
  },
  {
   "cell_type": "markdown",
   "id": "109fd7be",
   "metadata": {},
   "source": [
    "# Finish session"
   ]
  },
  {
   "cell_type": "code",
   "execution_count": 10,
   "id": "ceea978b",
   "metadata": {},
   "outputs": [],
   "source": [
    "run.finish()"
   ]
  }
 ],
 "metadata": {
  "kernelspec": {
   "display_name": "Python 3",
   "language": "python",
   "name": "python3"
  },
  "language_info": {
   "codemirror_mode": {
    "name": "ipython",
    "version": 3
   },
   "file_extension": ".py",
   "mimetype": "text/x-python",
   "name": "python",
   "nbconvert_exporter": "python",
   "pygments_lexer": "ipython3",
   "version": "3.9.15"
  }
 },
 "nbformat": 4,
 "nbformat_minor": 5
}
